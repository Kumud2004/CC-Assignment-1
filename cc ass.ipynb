{
  "nbformat": 4,
  "nbformat_minor": 0,
  "metadata": {
    "colab": {
      "provenance": []
    },
    "kernelspec": {
      "name": "python3",
      "display_name": "Python 3"
    },
    "language_info": {
      "name": "python"
    }
  },
  "cells": [
    {
      "cell_type": "code",
      "execution_count": 2,
      "metadata": {
        "colab": {
          "base_uri": "https://localhost:8080/"
        },
        "id": "rbFko3h18jWB",
        "outputId": "dd3c294b-cea6-42f8-dc7d-368bded4063d"
      },
      "outputs": [
        {
          "output_type": "stream",
          "name": "stdout",
          "text": [
            "Kumud\n",
            "Kumud\n",
            "Kumud\n"
          ]
        }
      ],
      "source": [
        "name = \"Kumud\"\n",
        "for _ in range(3):\n",
        "  print(name)"
      ]
    },
    {
      "cell_type": "code",
      "source": [
        "a = 100\n",
        "b = 200\n",
        "c = 500\n",
        "d = a + b + c\n",
        "print(d)"
      ],
      "metadata": {
        "colab": {
          "base_uri": "https://localhost:8080/"
        },
        "id": "dHlKx95A9SiT",
        "outputId": "4e613a7b-e8ab-4137-ef5c-14f2d3f73d6b"
      },
      "execution_count": 3,
      "outputs": [
        {
          "output_type": "stream",
          "name": "stdout",
          "text": [
            "800\n"
          ]
        }
      ]
    },
    {
      "cell_type": "code",
      "source": [
        "a = \"kumud\"\n",
        "b = \"grover\"\n",
        "c = \"good\"\n",
        "d = a + b + c\n",
        "print(a,\"+\",b,\"+\",c,\"-->\",d)\n"
      ],
      "metadata": {
        "colab": {
          "base_uri": "https://localhost:8080/"
        },
        "id": "I8ie9cWQ9sJ_",
        "outputId": "56313a23-8aee-4d81-ecae-afefa756a203"
      },
      "execution_count": 4,
      "outputs": [
        {
          "output_type": "stream",
          "name": "stdout",
          "text": [
            "kumud + grover + good --> kumudgrovergood\n"
          ]
        }
      ]
    },
    {
      "cell_type": "code",
      "source": [
        "for i in range(1,11):\n",
        "  print (7,\"*\",i,\"=\",i *7)"
      ],
      "metadata": {
        "colab": {
          "base_uri": "https://localhost:8080/"
        },
        "id": "6CdI4ZC0-Yob",
        "outputId": "1deb38b7-1888-4642-9c0b-5d7ca9d1984c"
      },
      "execution_count": 6,
      "outputs": [
        {
          "output_type": "stream",
          "name": "stdout",
          "text": [
            "7 * 1 = 7\n",
            "7 * 2 = 14\n",
            "7 * 3 = 21\n",
            "7 * 4 = 28\n",
            "7 * 5 = 35\n",
            "7 * 6 = 42\n",
            "7 * 7 = 49\n",
            "7 * 8 = 56\n",
            "7 * 9 = 63\n",
            "7 * 10 = 70\n"
          ]
        }
      ]
    },
    {
      "cell_type": "code",
      "source": [
        "for i in range(1,11):\n",
        "  print (9,\"*\",i,\"=\",i*9)"
      ],
      "metadata": {
        "colab": {
          "base_uri": "https://localhost:8080/"
        },
        "id": "8Gymf-f1_Aqc",
        "outputId": "bdfb02d5-d02f-4b7d-d148-750efb9e8aae"
      },
      "execution_count": 7,
      "outputs": [
        {
          "output_type": "stream",
          "name": "stdout",
          "text": [
            "9 * 1 = 9\n",
            "9 * 2 = 18\n",
            "9 * 3 = 27\n",
            "9 * 4 = 36\n",
            "9 * 5 = 45\n",
            "9 * 6 = 54\n",
            "9 * 7 = 63\n",
            "9 * 8 = 72\n",
            "9 * 9 = 81\n",
            "9 * 10 = 90\n"
          ]
        }
      ]
    },
    {
      "cell_type": "code",
      "source": [
        "n = int(input(\"Enter the number to print its table: \"))\n",
        "for i in range(1,11):\n",
        "    print(n,\"x\",i,\"=\",n*i)"
      ],
      "metadata": {
        "colab": {
          "base_uri": "https://localhost:8080/"
        },
        "id": "v_wvxm_C_W9g",
        "outputId": "88b11777-be98-49e6-ae5b-19ab7c175aea"
      },
      "execution_count": 8,
      "outputs": [
        {
          "output_type": "stream",
          "name": "stdout",
          "text": [
            "Enter the number to print its table: 4\n",
            "4 x 1 = 4\n",
            "4 x 2 = 8\n",
            "4 x 3 = 12\n",
            "4 x 4 = 16\n",
            "4 x 5 = 20\n",
            "4 x 6 = 24\n",
            "4 x 7 = 28\n",
            "4 x 8 = 32\n",
            "4 x 9 = 36\n",
            "4 x 10 = 40\n"
          ]
        }
      ]
    },
    {
      "cell_type": "code",
      "source": [
        "def is_prime(n):\n",
        "  if num <= 1:\n",
        "    return False\n",
        "  for i in range(2,int(num**0.5) + 1):\n",
        "    if n % i == 0:\n",
        "      return False\n",
        "  return True\n",
        "  n = int(input(\"Enter the number (n): \"))\n",
        "  prime_sum = 0\n",
        "  for i in range(1, n+1):\n",
        "    if is_prime(i):\n",
        "      prime_sum += i\n",
        "  print(f\"The sum of prime numbers from 1 to {n} is {prime_sum}\")"
      ],
      "metadata": {
        "id": "uHT-ZJQN_8Wr"
      },
      "execution_count": 13,
      "outputs": []
    },
    {
      "cell_type": "code",
      "source": [
        "def sum_of_odds(n):\n",
        "  odd_sum = 0\n",
        "  for i in range(1, n + 1,2):\n",
        "    odd_sum += i\n",
        "    return odd_sum\n",
        "  n = int(input(\"Enter the value of (n): \"))\n",
        "  result = sum_of_odds(n)\n",
        "  print(f\"The sum of odd numbers from 1 to {n} is {result}\")"
      ],
      "metadata": {
        "id": "7e9QbPVLBqSo"
      },
      "execution_count": 19,
      "outputs": []
    },
    {
      "cell_type": "code",
      "source": [
        "def is_prime(num):\n",
        "  if num <= 1:\n",
        "    return False\n",
        "  for i in range(2,int(num**0.5) + 1):\n",
        "    if num % i == 0:\n",
        "      return False\n",
        "  return True\n",
        "  def sum_of_primes(n):\n",
        "    prime_sum = 0\n",
        "    for i in range(1, n + 1):\n",
        "      if is_prime(i):\n",
        "        prime_sum += i\n",
        "    return prime_sum\n",
        "    n = int(input(\"Enter the number (n):\"))\n",
        "    result = sum_of_primes(n)\n",
        "    print(f\"The sum of all prime numbers from 1 to {n} is: {result}\")"
      ],
      "metadata": {
        "id": "r5h8qawWCzfu"
      },
      "execution_count": 20,
      "outputs": []
    },
    {
      "cell_type": "code",
      "source": [],
      "metadata": {
        "id": "7ZEsfqlhDyPJ"
      },
      "execution_count": null,
      "outputs": []
    }
  ]
}