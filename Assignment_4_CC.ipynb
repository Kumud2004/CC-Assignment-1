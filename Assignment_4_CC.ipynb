{
  "nbformat": 4,
  "nbformat_minor": 0,
  "metadata": {
    "colab": {
      "provenance": []
    },
    "kernelspec": {
      "name": "python3",
      "display_name": "Python 3"
    },
    "language_info": {
      "name": "python"
    }
  },
  "cells": [
    {
      "cell_type": "code",
      "source": [
        "#Q1\n",
        "import numpy as np\n",
        "arr = np.array([1 , 2 , 3 , 4 , 5])\n",
        "add_arr = arr + 2\n",
        "mult_arr = arr * 3\n",
        "div_arr = arr / 2\n",
        "print(\"Original:\", arr)\n",
        "print(\"Added:\", add_arr)\n",
        "print(\"Multiplied:\",mult_arr)\n",
        "print(\"Divided:\",div_arr)"
      ],
      "metadata": {
        "colab": {
          "base_uri": "https://localhost:8080/"
        },
        "id": "tnhS0AyBtPYb",
        "outputId": "5c7625e5-f6e1-458c-b3e0-b1a4b3a7839a"
      },
      "execution_count": null,
      "outputs": [
        {
          "output_type": "stream",
          "name": "stdout",
          "text": [
            "Original: [1 2 3 4 5]\n",
            "Added: [3 4 5 6 7]\n",
            "Multiplied: [ 3  6  9 12 15]\n",
            "Divided: [0.5 1.  1.5 2.  2.5]\n"
          ]
        }
      ]
    },
    {
      "cell_type": "code",
      "source": [
        "#Q2\n",
        "arr = np.array([1,2,3,6,4,5])\n",
        "print(arr[::-1])"
      ],
      "metadata": {
        "colab": {
          "base_uri": "https://localhost:8080/"
        },
        "id": "64RtsV2-vEO7",
        "outputId": "1fdcb006-112d-475b-9c8e-ba7604d41e76"
      },
      "execution_count": null,
      "outputs": [
        {
          "output_type": "stream",
          "name": "stdout",
          "text": [
            "[5 4 6 3 2 1]\n"
          ]
        }
      ]
    },
    {
      "cell_type": "code",
      "source": [
        "#q2\n",
        "x = np.array([1,2,3,4,5,1,2,1,1,1])\n",
        "y = np.array([1,1,1,2,3,4,2,4,3,3])\n",
        "elems,counts = np.unique(x,return_counts=True)\n",
        "print(elems)\n",
        "print(counts)\n",
        "print(f'Element with the most occurence:{elems[np.argmax(counts)]}')\n",
        "elemsY,countsY = np.unique(y,return_counts=True)\n",
        "print(elemsY)\n",
        "print(countsY)\n",
        "print(f'Element with the most occurence:{elemsY[np.argmax(countsY)]}')"
      ],
      "metadata": {
        "id": "uCXELTqYvs8e",
        "colab": {
          "base_uri": "https://localhost:8080/"
        },
        "outputId": "600fce95-82e1-437f-ab02-cb542b292f31"
      },
      "execution_count": null,
      "outputs": [
        {
          "output_type": "stream",
          "name": "stdout",
          "text": [
            "[1 2 3 4 5]\n",
            "[5 2 1 1 1]\n",
            "Element with the most occurence:1\n",
            "[1 2 3 4]\n",
            "[3 2 3 2]\n",
            "Element with the most occurence:1\n"
          ]
        }
      ]
    },
    {
      "cell_type": "code",
      "source": [
        "#Q3\n",
        "arr = np.array([[10,20,30],[40,50,60],[70,80,90]])\n",
        "print(arr[0,1])\n",
        "print(arr[2,0])"
      ],
      "metadata": {
        "colab": {
          "base_uri": "https://localhost:8080/"
        },
        "id": "nPn-MjavyoS9",
        "outputId": "9dc9e0ce-037c-429b-ade8-75db1123456c"
      },
      "execution_count": null,
      "outputs": [
        {
          "output_type": "stream",
          "name": "stdout",
          "text": [
            "20\n",
            "70\n"
          ]
        }
      ]
    },
    {
      "cell_type": "code",
      "source": [
        "#Q4\n",
        "Kumud = np.linspace(10,100,25)\n",
        "print(\"Dimensions:\",Kumud.ndim)\n",
        "print(\"Shape:\",Kumud.shape)\n",
        "print(\"Size:\",Kumud.size)\n",
        "print(\"Data Type:\",Kumud.dtype)\n",
        "print(\"Total Bytes:\",Kumud.nbytes)\n",
        "transposed_array = Kumud.reshape(5,5)\n",
        "print(\"Using T attribute (Does not work for 1D array):\",Kumud.T)"
      ],
      "metadata": {
        "id": "JPHCGwOSzNVB",
        "colab": {
          "base_uri": "https://localhost:8080/"
        },
        "outputId": "fdde2d50-e1f8-4f50-c575-f1dd41dabd3b"
      },
      "execution_count": 12,
      "outputs": [
        {
          "output_type": "stream",
          "name": "stdout",
          "text": [
            "Dimensions: 1\n",
            "Shape: (25,)\n",
            "Size: 25\n",
            "Data Type: float64\n",
            "Total Bytes: 200\n",
            "Using T attribute (Does not work for 1D array): [ 10.    13.75  17.5   21.25  25.    28.75  32.5   36.25  40.    43.75\n",
            "  47.5   51.25  55.    58.75  62.5   66.25  70.    73.75  77.5   81.25\n",
            "  85.    88.75  92.5   96.25 100.  ]\n"
          ]
        }
      ]
    },
    {
      "cell_type": "code",
      "source": [
        "#Q5\n",
        "ucs420_Kumud = np.array([[10,20,30,40],[50,60,70,80],[90,15,20,35]])\n",
        "mean_value = np.mean(ucs420_Kumud)\n",
        "print(mean_value)\n",
        "median_value = np.median(ucs420_Kumud)\n",
        "print(median_value)\n",
        "max_value = np.max(ucs420_Kumud)\n",
        "print(max_value)\n",
        "min_value = np.min(ucs420_Kumud)\n",
        "print(min_value)\n",
        "unique_values = np.unique(ucs420_Kumud)\n",
        "print(unique_values)\n",
        "reshaped_ucs420 = ucs420_Kumud.reshape(4,3)\n",
        "print(reshaped_ucs420)\n",
        "resized_ucs420 = np.resize(ucs420_Kumud,(2,3))\n",
        "print(resized_ucs420)"
      ],
      "metadata": {
        "colab": {
          "base_uri": "https://localhost:8080/"
        },
        "id": "snYChPc-1PA5",
        "outputId": "ac753b88-fa96-4777-b9cf-20e715535811"
      },
      "execution_count": 13,
      "outputs": [
        {
          "output_type": "stream",
          "name": "stdout",
          "text": [
            "43.333333333333336\n",
            "37.5\n",
            "90\n",
            "10\n",
            "[10 15 20 30 35 40 50 60 70 80 90]\n",
            "[[10 20 30]\n",
            " [40 50 60]\n",
            " [70 80 90]\n",
            " [15 20 35]]\n",
            "[[10 20 30]\n",
            " [40 50 60]]\n"
          ]
        }
      ]
    }
  ]
}