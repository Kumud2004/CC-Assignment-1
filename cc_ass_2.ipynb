{
  "nbformat": 4,
  "nbformat_minor": 0,
  "metadata": {
    "colab": {
      "provenance": []
    },
    "kernelspec": {
      "name": "python3",
      "display_name": "Python 3"
    },
    "language_info": {
      "name": "python"
    }
  },
  "cells": [
    {
      "cell_type": "code",
      "execution_count": 1,
      "metadata": {
        "colab": {
          "base_uri": "https://localhost:8080/"
        },
        "id": "id02TQkGkNY9",
        "outputId": "f153f693-e4ff-4a80-a04d-59e745672c39"
      },
      "outputs": [
        {
          "output_type": "stream",
          "name": "stdout",
          "text": [
            "After adding 200 and 300: [10, 20, 30, 40, 50, 60, 70, 80, 200, 300]\n",
            "Ater removing 10 and 30: [20, 40, 50, 60, 70, 80, 200, 300]\n",
            "Sorted in ascending order: [20, 40, 50, 60, 70, 80, 200, 300]\n",
            "Sorted in descending order: [300, 200, 80, 70, 60, 50, 40, 20]\n"
          ]
        }
      ],
      "source": [
        "L = [10,20,30,40,50,60,70,80]\n",
        "L.append(200)\n",
        "L.append(300)\n",
        "print(\"After adding 200 and 300:\",L)\n",
        "L.remove(10)\n",
        "L.remove(30)\n",
        "print(\"Ater removing 10 and 30:\",L)\n",
        "L.sort()\n",
        "print(\"Sorted in ascending order:\",L)\n",
        "L.sort(reverse=True)\n",
        "print(\"Sorted in descending order:\",L)"
      ]
    },
    {
      "cell_type": "code",
      "source": [
        "scores = (45,89.5,76,45.4,89,92,58,45)\n",
        "highest_score = max(scores)\n",
        "highest_index = scores.index(highest_score)\n",
        "print(\"Highest score:\",highest_score)\n",
        "print(\"Index of highest score:\",highest_index)\n",
        "lowest_score = min(scores)\n",
        "lowest_count = scores.count(lowest_score)\n",
        "print(\"Lowest score:\",lowest_score)\n",
        "print(\"Number of times lowest score occured:\",lowest_count)\n",
        "reversed_list = list(scores[::-1])\n",
        "print(\"Reversed list:\",reversed_list)\n",
        "search_score = 76\n",
        "if search_score in scores:\n",
        "    print(\"Score found\")\n",
        "else:\n",
        "    print(\"Score not found\")"
      ],
      "metadata": {
        "colab": {
          "base_uri": "https://localhost:8080/"
        },
        "id": "MzBqxPDUnmXm",
        "outputId": "96bdb588-22b5-4c5b-8f13-57a98f04329c"
      },
      "execution_count": 2,
      "outputs": [
        {
          "output_type": "stream",
          "name": "stdout",
          "text": [
            "Highest score: 92\n",
            "Index of highest score: 5\n",
            "Lowest score: 45\n",
            "Number of times lowest score occured: 2\n",
            "Reversed list: [45, 58, 92, 89, 45.4, 76, 89.5, 45]\n",
            "Score found\n"
          ]
        }
      ]
    },
    {
      "cell_type": "code",
      "source": [
        "import random\n",
        "\n",
        "\n",
        "random_numbers = [random.randint(100, 900) for _ in range(100)]\n",
        "\n",
        "\n",
        "def is_prime(n):\n",
        "    if n < 2:\n",
        "        return False\n",
        "    for i in range(2, int(n ** 0.5) + 1):\n",
        "        if n % i == 0:\n",
        "            return False\n",
        "    return True\n",
        "\n",
        "\n",
        "odd_numbers = [num for num in random_numbers if num % 2 != 0]\n",
        "\n",
        "even_numbers = [num for num in random_numbers if num % 2 == 0]\n",
        "\n",
        "\n",
        "prime_numbers = [num for num in random_numbers if is_prime(num)]\n",
        "\n",
        "\n",
        "print(\"Odd Numbers:\", odd_numbers)\n",
        "print(\"Even Numbers:\", even_numbers)\n",
        "print(\"Prime Numbers:\", prime_numbers)\n",
        "\n",
        "\n",
        "A = {34, 56, 78, 90}\n",
        "B = {78, 45, 90, 23}\n",
        "\n",
        "\n",
        "union_set = A | B\n",
        "print(\"Unique scores (Union):\", union_set)\n",
        "\n",
        "\n",
        "intersection_set = A & B\n",
        "print(\"Common scores (Intersection):\", intersection_set)\n",
        "\n",
        "\n",
        "symmetric_difference_set = A ^ B\n",
        "print(\"Exclusive scores (Symmetric Difference):\", symmetric_difference_set)\n",
        "\n",
        "\n",
        "is_subset = A.issubset(B)\n",
        "is_superset = B.issuperset(A)\n",
        "print(f\"Is A a subset of B? {is_subset}\")\n",
        "print(f\"Is B a superset of A? {is_superset}\")\n",
        "\n",
        "\n",
        "X = int(input(\"Enter a score to remove from A: \"))\n",
        "if X in A:\n",
        "    A.remove(X)\n",
        "    print(f\"Score {X} removed from A. Updated A:\", A)\n",
        "else:\n",
        "    print(f\"Score {X} is not present in A.\")"
      ],
      "metadata": {
        "colab": {
          "base_uri": "https://localhost:8080/"
        },
        "id": "B9c6ksgTN27G",
        "outputId": "d192b0b0-dc66-4b76-95f2-f23eb007270a"
      },
      "execution_count": 30,
      "outputs": [
        {
          "output_type": "stream",
          "name": "stdout",
          "text": [
            "Odd Numbers: [401, 607, 431, 863, 539, 323, 129, 277, 479, 785, 455, 211, 441, 227, 647, 621, 447, 239, 281, 469, 363, 727, 783, 619, 859, 133, 285, 575, 567, 323, 665, 175, 597, 135, 257, 821, 519, 267, 559, 551, 789, 409, 777, 245, 817, 315, 411, 783, 499, 289]\n",
            "Even Numbers: [308, 678, 632, 870, 576, 158, 542, 250, 180, 354, 784, 554, 590, 262, 756, 752, 362, 216, 346, 866, 620, 572, 540, 816, 258, 464, 250, 376, 700, 762, 816, 892, 386, 344, 720, 188, 708, 644, 602, 386, 294, 806, 234, 376, 512, 108, 430, 672, 450, 794]\n",
            "Prime Numbers: [401, 607, 431, 863, 277, 479, 211, 227, 647, 239, 281, 727, 619, 859, 257, 821, 409, 499]\n",
            "Unique scores (Union): {34, 45, 78, 23, 56, 90}\n",
            "Common scores (Intersection): {90, 78}\n",
            "Exclusive scores (Symmetric Difference): {34, 45, 23, 56}\n",
            "Is A a subset of B? False\n",
            "Is B a superset of A? False\n",
            "Enter a score to remove from A: 56\n",
            "Score 56 removed from A. Updated A: {34, 90, 78}\n"
          ]
        }
      ]
    },
    {
      "cell_type": "code",
      "source": [
        "sample_dict={\n",
        "    \"name\":\"Kelly\",\n",
        "    \"age\":25,\n",
        "    \"salary\":8000,\n",
        "    \"city\":\"New York\"\n",
        "}\n",
        "print(sample_dict)\n",
        "del sample_dict[\"city\"]\n",
        "sample_dict[\"location\"]=\"New York\"\n",
        "print(sample_dict)"
      ],
      "metadata": {
        "colab": {
          "base_uri": "https://localhost:8080/"
        },
        "id": "Ox72ZQpbOQt-",
        "outputId": "fffe5c39-8207-4152-ca20-9062867ba55b"
      },
      "execution_count": 31,
      "outputs": [
        {
          "output_type": "stream",
          "name": "stdout",
          "text": [
            "{'name': 'Kelly', 'age': 25, 'salary': 8000, 'city': 'New York'}\n",
            "{'name': 'Kelly', 'age': 25, 'salary': 8000, 'location': 'New York'}\n"
          ]
        }
      ]
    }
  ]
}